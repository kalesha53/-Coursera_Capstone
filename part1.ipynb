{
 "cells": [
  {
   "cell_type": "code",
   "execution_count": 1,
   "metadata": {},
   "outputs": [
    {
     "name": "stdout",
     "output_type": "stream",
     "text": [
      "Collecting geocoder\n",
      "  Downloading https://files.pythonhosted.org/packages/4f/6b/13166c909ad2f2d76b929a4227c952630ebaf0d729f6317eb09cbceccbab/geocoder-1.38.1-py2.py3-none-any.whl (98kB)\n",
      "Requirement already satisfied: click in c:\\users\\kmohammad\\appdata\\local\\continuum\\anaconda3\\lib\\site-packages (from geocoder) (7.0)\n",
      "Requirement already satisfied: six in c:\\users\\kmohammad\\appdata\\roaming\\python\\python37\\site-packages (from geocoder) (1.12.0)\n",
      "Requirement already satisfied: requests in c:\\users\\kmohammad\\appdata\\local\\continuum\\anaconda3\\lib\\site-packages (from geocoder) (2.22.0)\n",
      "Requirement already satisfied: future in c:\\users\\kmohammad\\appdata\\local\\continuum\\anaconda3\\lib\\site-packages (from geocoder) (0.18.2)\n",
      "Collecting ratelim\n",
      "  Downloading https://files.pythonhosted.org/packages/f2/98/7e6d147fd16a10a5f821db6e25f192265d6ecca3d82957a4fdd592cad49c/ratelim-0.1.6-py2.py3-none-any.whl\n",
      "Requirement already satisfied: urllib3!=1.25.0,!=1.25.1,<1.26,>=1.21.1 in c:\\users\\kmohammad\\appdata\\local\\continuum\\anaconda3\\lib\\site-packages (from requests->geocoder) (1.25.7)\n",
      "Requirement already satisfied: idna<2.9,>=2.5 in c:\\users\\kmohammad\\appdata\\local\\continuum\\anaconda3\\lib\\site-packages (from requests->geocoder) (2.8)\n",
      "Requirement already satisfied: chardet<3.1.0,>=3.0.2 in c:\\users\\kmohammad\\appdata\\local\\continuum\\anaconda3\\lib\\site-packages (from requests->geocoder) (3.0.4)\n",
      "Requirement already satisfied: certifi>=2017.4.17 in c:\\users\\kmohammad\\appdata\\local\\continuum\\anaconda3\\lib\\site-packages (from requests->geocoder) (2019.11.28)\n",
      "Requirement already satisfied: decorator in c:\\users\\kmohammad\\appdata\\local\\continuum\\anaconda3\\lib\\site-packages (from ratelim->geocoder) (4.4.1)\n",
      "Installing collected packages: ratelim, geocoder\n",
      "Successfully installed geocoder-1.38.1 ratelim-0.1.6\n",
      "Packages installed.\n"
     ]
    }
   ],
   "source": [
    "import sys\n",
    "!{sys.executable} -m pip install geocoder\n",
    "\n",
    "print('Packages installed.')"
   ]
  },
  {
   "cell_type": "code",
   "execution_count": 2,
   "metadata": {},
   "outputs": [
    {
     "name": "stdout",
     "output_type": "stream",
     "text": [
      "Libraries imported.\n"
     ]
    }
   ],
   "source": [
    "import numpy as np # library to handle data in a vectorized manner\n",
    "import pandas as pd # library for data analsysis\n",
    "import geocoder # import geocoder\n",
    "import requests \n",
    "from bs4 import BeautifulSoup \n",
    "\n",
    "print('Libraries imported.')"
   ]
  },
  {
   "cell_type": "code",
   "execution_count": 6,
   "metadata": {},
   "outputs": [
    {
     "name": "stdout",
     "output_type": "stream",
     "text": [
      "Page Scrapped.\n"
     ]
    }
   ],
   "source": [
    "URL = \"https://en.wikipedia.org/wiki/List_of_postal_codes_of_Canada:_M\"\n",
    "r = requests.get(URL) \n",
    "  \n",
    "soup = BeautifulSoup(r.content, 'html.parser') \n",
    "table = soup.find('div', attrs = {'id':'container'}) \n",
    "\n",
    "# print(soup.prettify()) \n",
    "print('Page Scrapped.') "
   ]
  },
  {
   "cell_type": "code",
   "execution_count": 7,
   "metadata": {},
   "outputs": [
    {
     "name": "stdout",
     "output_type": "stream",
     "text": [
      "Data Collected.\n"
     ]
    }
   ],
   "source": [
    "postalCodes = [];\n",
    "boroughs= [];\n",
    "neighborhoods = [];\n",
    "columnNum = 1;\n",
    "passVal = False\n",
    "\n",
    "for row in soup.find_all('td'):\n",
    "    for cell in row:\n",
    "        if cell.string and cell.string[0].isalpha() and len(cell.string) > 2:\n",
    "            passVal = False\n",
    "            if columnNum == 1:\n",
    "                if passVal == False and cell.string[1].isdigit():\n",
    "                    postalCodes.append(cell.string);   \n",
    "                    columnNum = 2\n",
    "                else:\n",
    "                    continue\n",
    "            elif columnNum == 2 :\n",
    "                if cell.string == 'Not assigned':\n",
    "                    passVal = True\n",
    "                    del postalCodes[-1]\n",
    "                    columnNum = 1\n",
    "                    continue\n",
    "                else:\n",
    "                    boroughs.append(cell.string);      \n",
    "                    columnNum = 3\n",
    "            elif columnNum == 3 :\n",
    "                if cell.string == 'Not assigned\\n':\n",
    "                    neighborhoods.append(boroughs[-1])\n",
    "                else:\n",
    "                    neighborhoods.append(cell.string); \n",
    "                columnNum = 1\n",
    "                \n",
    "print('Data Collected.')"
   ]
  },
  {
   "cell_type": "code",
   "execution_count": 20,
   "metadata": {},
   "outputs": [
    {
     "data": {
      "text/html": [
       "<div>\n",
       "<style scoped>\n",
       "    .dataframe tbody tr th:only-of-type {\n",
       "        vertical-align: middle;\n",
       "    }\n",
       "\n",
       "    .dataframe tbody tr th {\n",
       "        vertical-align: top;\n",
       "    }\n",
       "\n",
       "    .dataframe thead th {\n",
       "        text-align: right;\n",
       "    }\n",
       "</style>\n",
       "<table border=\"1\" class=\"dataframe\">\n",
       "  <thead>\n",
       "    <tr style=\"text-align: right;\">\n",
       "      <th></th>\n",
       "      <th>PostalCode</th>\n",
       "      <th>Borough</th>\n",
       "      <th>Neighborhood</th>\n",
       "    </tr>\n",
       "  </thead>\n",
       "  <tbody>\n",
       "  </tbody>\n",
       "</table>\n",
       "</div>"
      ],
      "text/plain": [
       "Empty DataFrame\n",
       "Columns: [PostalCode, Borough, Neighborhood]\n",
       "Index: []"
      ]
     },
     "execution_count": 20,
     "metadata": {},
     "output_type": "execute_result"
    }
   ],
   "source": [
    "# define the dataframe columns\n",
    "column_names = ['PostalCode', 'Borough', 'Neighborhood'] \n",
    "\n",
    "# instantiate the dataframe\n",
    "neighbors = pd.DataFrame(columns=column_names)\n",
    "\n",
    "neighbors"
   ]
  },
  {
   "cell_type": "code",
   "execution_count": 21,
   "metadata": {},
   "outputs": [],
   "source": [
    "for data in range(len(neighborhoods)):\n",
    "    code = postalCodes[data]\n",
    "    borough = boroughs[data]\n",
    "    neighborhood_name = neighborhoods[data]\n",
    "\n",
    "    neighbors = neighbors.append({ 'PostalCode': code,\n",
    "                                   'Borough': borough,\n",
    "                                   'Neighborhood': neighborhood_name}, ignore_index=True)"
   ]
  },
  {
   "cell_type": "code",
   "execution_count": 22,
   "metadata": {},
   "outputs": [
    {
     "data": {
      "text/html": [
       "<div>\n",
       "<style scoped>\n",
       "    .dataframe tbody tr th:only-of-type {\n",
       "        vertical-align: middle;\n",
       "    }\n",
       "\n",
       "    .dataframe tbody tr th {\n",
       "        vertical-align: top;\n",
       "    }\n",
       "\n",
       "    .dataframe thead th {\n",
       "        text-align: right;\n",
       "    }\n",
       "</style>\n",
       "<table border=\"1\" class=\"dataframe\">\n",
       "  <thead>\n",
       "    <tr style=\"text-align: right;\">\n",
       "      <th></th>\n",
       "      <th>PostalCode</th>\n",
       "      <th>Borough</th>\n",
       "      <th>Neighborhood</th>\n",
       "    </tr>\n",
       "  </thead>\n",
       "  <tbody>\n",
       "    <tr>\n",
       "      <th>0</th>\n",
       "      <td>M3A</td>\n",
       "      <td>North York</td>\n",
       "      <td>Parkwoods</td>\n",
       "    </tr>\n",
       "    <tr>\n",
       "      <th>1</th>\n",
       "      <td>M4A</td>\n",
       "      <td>North York</td>\n",
       "      <td>Victoria Village</td>\n",
       "    </tr>\n",
       "    <tr>\n",
       "      <th>2</th>\n",
       "      <td>M5A</td>\n",
       "      <td>Downtown Toronto</td>\n",
       "      <td>Harbourfront</td>\n",
       "    </tr>\n",
       "    <tr>\n",
       "      <th>3</th>\n",
       "      <td>M6A</td>\n",
       "      <td>North York</td>\n",
       "      <td>Lawrence Heights</td>\n",
       "    </tr>\n",
       "    <tr>\n",
       "      <th>4</th>\n",
       "      <td>M6A</td>\n",
       "      <td>North York</td>\n",
       "      <td>Lawrence Manor</td>\n",
       "    </tr>\n",
       "    <tr>\n",
       "      <th>...</th>\n",
       "      <td>...</td>\n",
       "      <td>...</td>\n",
       "      <td>...</td>\n",
       "    </tr>\n",
       "    <tr>\n",
       "      <th>205</th>\n",
       "      <td>M8Z</td>\n",
       "      <td>Etobicoke</td>\n",
       "      <td>Kingsway Park South West\\n</td>\n",
       "    </tr>\n",
       "    <tr>\n",
       "      <th>206</th>\n",
       "      <td>M8Z</td>\n",
       "      <td>Etobicoke</td>\n",
       "      <td>Mimico NW</td>\n",
       "    </tr>\n",
       "    <tr>\n",
       "      <th>207</th>\n",
       "      <td>M8Z</td>\n",
       "      <td>Etobicoke</td>\n",
       "      <td>The Queensway West</td>\n",
       "    </tr>\n",
       "    <tr>\n",
       "      <th>208</th>\n",
       "      <td>M8Z</td>\n",
       "      <td>Etobicoke</td>\n",
       "      <td>Royal York South West\\n</td>\n",
       "    </tr>\n",
       "    <tr>\n",
       "      <th>209</th>\n",
       "      <td>M8Z</td>\n",
       "      <td>Etobicoke</td>\n",
       "      <td>South of Bloor\\n</td>\n",
       "    </tr>\n",
       "  </tbody>\n",
       "</table>\n",
       "<p>210 rows × 3 columns</p>\n",
       "</div>"
      ],
      "text/plain": [
       "    PostalCode           Borough                Neighborhood\n",
       "0          M3A        North York                   Parkwoods\n",
       "1          M4A        North York            Victoria Village\n",
       "2          M5A  Downtown Toronto                Harbourfront\n",
       "3          M6A        North York            Lawrence Heights\n",
       "4          M6A        North York              Lawrence Manor\n",
       "..         ...               ...                         ...\n",
       "205        M8Z         Etobicoke  Kingsway Park South West\\n\n",
       "206        M8Z         Etobicoke                   Mimico NW\n",
       "207        M8Z         Etobicoke          The Queensway West\n",
       "208        M8Z         Etobicoke     Royal York South West\\n\n",
       "209        M8Z         Etobicoke            South of Bloor\\n\n",
       "\n",
       "[210 rows x 3 columns]"
      ]
     },
     "execution_count": 22,
     "metadata": {},
     "output_type": "execute_result"
    }
   ],
   "source": [
    "neighbors"
   ]
  },
  {
   "cell_type": "code",
   "execution_count": 23,
   "metadata": {},
   "outputs": [
    {
     "data": {
      "text/plain": [
       "(210, 3)"
      ]
     },
     "execution_count": 23,
     "metadata": {},
     "output_type": "execute_result"
    }
   ],
   "source": [
    "neighbors.shape"
   ]
  },
  {
   "cell_type": "code",
   "execution_count": null,
   "metadata": {},
   "outputs": [],
   "source": []
  }
 ],
 "metadata": {
  "kernelspec": {
   "display_name": "Python 3",
   "language": "python",
   "name": "python3"
  },
  "language_info": {
   "codemirror_mode": {
    "name": "ipython",
    "version": 3
   },
   "file_extension": ".py",
   "mimetype": "text/x-python",
   "name": "python",
   "nbconvert_exporter": "python",
   "pygments_lexer": "ipython3",
   "version": "3.7.4"
  }
 },
 "nbformat": 4,
 "nbformat_minor": 2
}
